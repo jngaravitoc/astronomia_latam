{
 "cells": [
  {
   "cell_type": "markdown",
   "metadata": {},
   "source": [
    "# TODO:\n",
    "1. Implementar link en el marcador.[Done]\n",
    "2. Cambiar el color del Mapa. [Done]\n",
    "3. Decidir que informacion poner pora cada Univeridad.[Done]\n",
    "4. Poner el mapa en el readme del repo.\n",
    "5. hacerlo en espanol, ingles y portuges. \n",
    "\n",
    "# Ideas:\n",
    "\n",
    "1. Numero de astronomos por pais? \n",
    "2. Numero de mujeres astronomas? \n",
    "3. Opcion de organizar por pregrados, maestrias, doctorados. \n",
    "4. Hacer lo mismo pero con Observatorios. "
   ]
  },
  {
   "cell_type": "code",
   "execution_count": 70,
   "metadata": {},
   "outputs": [
    {
     "name": "stdout",
     "output_type": "stream",
     "text": [
      "Populating the interactive namespace from numpy and matplotlib\n"
     ]
    }
   ],
   "source": [
    "%pylab inline\n",
    "import folium\n",
    "from folium.plugins import MarkerCluster\n",
    "import geopy\n",
    "from geopy.geocoders import Nominatim"
   ]
  },
  {
   "cell_type": "code",
   "execution_count": 5,
   "metadata": {},
   "outputs": [],
   "source": [
    "geolocator = Nominatim(user_agent=\"OpenStreetMaps\")"
   ]
  },
  {
   "cell_type": "code",
   "execution_count": 94,
   "metadata": {},
   "outputs": [],
   "source": [
    "datos = np.genfromtxt('../data/universidades.csv', delimiter=',', dtype=(str))\n",
    "universidades = datos[:,0]\n",
    "paises = datos[:,1]\n",
    "maestrias = datos[:,2]\n",
    "doctorados = datos[:,3]\n",
    "becas = datos[:,4]\n",
    "comentarios = datos[:,5]\n",
    "paginas = datos[:,6]"
   ]
  },
  {
   "cell_type": "code",
   "execution_count": 95,
   "metadata": {},
   "outputs": [
    {
     "name": "stdout",
     "output_type": "stream",
     "text": [
      "Universidad Nacional de Colombia, 26-85, Carrera 45, Quinta Paredes, Teusaquillo, Bogotá, Distrito Capital, 110911, Colombia\n",
      "Universidad de los Andes, Calle 18, La Aguas, La Candelaria, Candelaria, Bogotá, Distrito Capital, TEL. 3394949 EXT. 2525, Colombia\n",
      "Universidad de Antioquía, Medellin innovation district, El Picacho, Comuna 4 - Aranjuez, Zona Urbana Medellín, Medellín, Valle de Aburrá, Antioquia, 0500, Colombia\n",
      "Universidad Industrial de Santander, Calle 8 A, Bucaramanga, Santander, 680001, Colombia\n",
      "Universidad Pedagógica y Tecnológica de Colombia, Avenida Norte, Conjunto Residencial Terrazas de Santa Inés, Villa Universitaria, Rincón de la Pradera, Tunja, Boyacá, 150003, Colombia\n",
      "Universidad Autónoma de México, Universidades, Santa Clara la Venta, Puebla, Municipio de Puebla, Puebla, 72570, México\n",
      "Universidad de Guanajuato, Cumbres Universidad lll, Chihuahua, Municipio de Chihuahua, Chihuahua, 31180, México\n",
      "Instituto Nacional de Astrofísica, Óptica y Electrónica (INAOE), 1, Avenida Miguel Aleman, Tonantzintla (Santa María Tonantzintla), San Luis Tehuiloyocan, San Andrés Cholula, Puebla, 72840, México\n"
     ]
    }
   ],
   "source": [
    "all_latitudes = []\n",
    "all_longitudes = []\n",
    "for i in universidades:\n",
    "    location = geolocator.geocode(i)\n",
    "    print(location.address)\n",
    "    all_latitudes.append(location.latitude)\n",
    "    all_longitudes.append(location.longitude)"
   ]
  },
  {
   "cell_type": "code",
   "execution_count": 96,
   "metadata": {},
   "outputs": [],
   "source": [
    "def makeHref(url,link_text = None):\n",
    "    if link_text == None:\n",
    "        link_text = str(url)\n",
    "    return '<a href=\"' + url + '\"target=\"_blank\">' +link_text +'</a>'\n"
   ]
  },
  {
   "cell_type": "code",
   "execution_count": 101,
   "metadata": {},
   "outputs": [
    {
     "data": {
      "text/html": [
       "<div style=\"width:100%;\"><div style=\"position:relative;width:100%;height:0;padding-bottom:60%;\"><iframe src=\"about:blank\" style=\"position:absolute;width:100%;height:100%;left:0;top:0;border:none !important;\" data-html=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 onload=\"this.contentDocument.open();this.contentDocument.write(atob(this.getAttribute('data-html')));this.contentDocument.close();\" allowfullscreen webkitallowfullscreen mozallowfullscreen></iframe></div></div>"
      ],
      "text/plain": [
       "<folium.folium.Map at 0x7f4b0d328588>"
      ]
     },
     "execution_count": 101,
     "metadata": {},
     "output_type": "execute_result"
    }
   ],
   "source": [
    "latam_map = folium.Map(location=[np.mean(np.array(all_latitudes)),np.mean(np.array(all_longitudes))],\n",
    "                        zoom_start=3,\n",
    "                        tiles=\"open street map\")\n",
    "\n",
    "marker_cluster = MarkerCluster()\n",
    "\n",
    "for i in range(len(universidades)):\n",
    "    marker_cluster.add_child(folium.Marker(\n",
    "        location=[all_latitudes[i], all_longitudes[i]], popup=makeHref(paginas[i], universidades[i])))\n",
    "                             \n",
    "latam_map.add_child(marker_cluster)"
   ]
  },
  {
   "cell_type": "code",
   "execution_count": 75,
   "metadata": {},
   "outputs": [],
   "source": [
    "latam_map.save(\"./mapa_astronomia_latinoamerica.html\")"
   ]
  },
  {
   "cell_type": "code",
   "execution_count": null,
   "metadata": {},
   "outputs": [],
   "source": []
  }
 ],
 "metadata": {
  "kernelspec": {
   "display_name": "Python 3",
   "language": "python",
   "name": "python3"
  },
  "language_info": {
   "codemirror_mode": {
    "name": "ipython",
    "version": 3
   },
   "file_extension": ".py",
   "mimetype": "text/x-python",
   "name": "python",
   "nbconvert_exporter": "python",
   "pygments_lexer": "ipython3",
   "version": "3.5.2"
  }
 },
 "nbformat": 4,
 "nbformat_minor": 2
}
